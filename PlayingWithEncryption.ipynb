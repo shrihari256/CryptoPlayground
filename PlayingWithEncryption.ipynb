{
 "cells": [
  {
   "cell_type": "code",
   "execution_count": 1,
   "metadata": {},
   "outputs": [
    {
     "data": {
      "text/plain": [
       "8188535829226893855"
      ]
     },
     "execution_count": 1,
     "metadata": {},
     "output_type": "execute_result"
    }
   ],
   "source": [
    "hash(\"hello\")"
   ]
  },
  {
   "cell_type": "code",
   "execution_count": 52,
   "metadata": {},
   "outputs": [],
   "source": [
    "import hashlib"
   ]
  },
  {
   "cell_type": "code",
   "execution_count": 53,
   "metadata": {},
   "outputs": [],
   "source": [
    "def hash_string_256(string):\n",
    "    hash256 = hashlib.sha256()\n",
    "    hash256.update(string.encode('utf-8'))\n",
    "    return hash256.hexdigest()\n"
   ]
  },
  {
   "cell_type": "code",
   "execution_count": 4,
   "metadata": {},
   "outputs": [
    {
     "name": "stdout",
     "output_type": "stream",
     "text": [
      "f7b3781c5eafc2779a96bae2e4875a83ecce46f198e9f81916521d9d218c7da7\n",
      "c05e5592105485f73b05767d139702305d76dcdfd452b8d4f5b8ada0ad262587\n"
     ]
    }
   ],
   "source": [
    "print(hash_string_256(\"hari\"))\n",
    "print(hash_string_256(\"shri\"))"
   ]
  },
  {
   "cell_type": "code",
   "execution_count": 5,
   "metadata": {},
   "outputs": [
    {
     "name": "stdout",
     "output_type": "stream",
     "text": [
      "c8d6ad796df447787b79b7cf85de49b16777b7621104b047918bfd40ef4d15aa\n"
     ]
    }
   ],
   "source": [
    "print(hash_string_256(\"SketchGraphs: A Large-Scale Dataset for Modeling Relational Geometry in Computer-Aided Design\"))"
   ]
  },
  {
   "cell_type": "code",
   "execution_count": 6,
   "metadata": {},
   "outputs": [
    {
     "name": "stdout",
     "output_type": "stream",
     "text": [
      "049da052634feb56ce6ec0bc648c672011edff1cb272b53113bbc90a8f00249c\n"
     ]
    }
   ],
   "source": [
    "binval = hash_string_256(hash_string_256(\"hello world\"))\n",
    "print(binval)"
   ]
  },
  {
   "cell_type": "code",
   "execution_count": 7,
   "metadata": {},
   "outputs": [
    {
     "data": {
      "text/plain": [
       "str"
      ]
     },
     "execution_count": 7,
     "metadata": {},
     "output_type": "execute_result"
    }
   ],
   "source": [
    "type(binval)"
   ]
  },
  {
   "cell_type": "code",
   "execution_count": 8,
   "metadata": {},
   "outputs": [],
   "source": [
    "# convert string to hexa decimal\n",
    "bHex= int(binval, 16)\n"
   ]
  },
  {
   "cell_type": "code",
   "execution_count": 9,
   "metadata": {},
   "outputs": [
    {
     "data": {
      "text/plain": [
       "int"
      ]
     },
     "execution_count": 9,
     "metadata": {},
     "output_type": "execute_result"
    }
   ],
   "source": [
    "type(bHex)"
   ]
  },
  {
   "cell_type": "code",
   "execution_count": 10,
   "metadata": {},
   "outputs": [
    {
     "data": {
      "text/plain": [
       "2087752884093178855323445801008570394571644123125593178408623907492302169244"
      ]
     },
     "execution_count": 10,
     "metadata": {},
     "output_type": "execute_result"
    }
   ],
   "source": [
    "bHex"
   ]
  },
  {
   "cell_type": "code",
   "execution_count": 11,
   "metadata": {},
   "outputs": [],
   "source": [
    "hh = hex(bHex)"
   ]
  },
  {
   "cell_type": "code",
   "execution_count": 12,
   "metadata": {},
   "outputs": [
    {
     "data": {
      "text/plain": [
       "'0x49da052634feb56ce6ec0bc648c672011edff1cb272b53113bbc90a8f00249c'"
      ]
     },
     "execution_count": 12,
     "metadata": {},
     "output_type": "execute_result"
    }
   ],
   "source": [
    "hh"
   ]
  },
  {
   "cell_type": "code",
   "execution_count": 14,
   "metadata": {},
   "outputs": [],
   "source": [
    "# convert hexa decimal to binary\n",
    "tt =bin(int(binval, 16))\n"
   ]
  },
  {
   "cell_type": "code",
   "execution_count": 18,
   "metadata": {},
   "outputs": [],
   "source": [
    "i=1\n",
    "h_assimilated = hash_string_256(\"uumbu\")\n",
    "hashes = []\n",
    "\n",
    "while i <= 100:\n",
    "    h_assimilated = hash_string_256(h_assimilated)\n",
    "    hashes.append(h_assimilated)\n",
    "    i += 1"
   ]
  },
  {
   "cell_type": "code",
   "execution_count": 17,
   "metadata": {},
   "outputs": [
    {
     "data": {
      "text/plain": [
       "'01bafa6619b99aeff5e4dc1cb83dd6115c47ce0a825890fa964ca33b026f0358'"
      ]
     },
     "execution_count": 17,
     "metadata": {},
     "output_type": "execute_result"
    }
   ],
   "source": [
    "h_assimilated"
   ]
  },
  {
   "cell_type": "code",
   "execution_count": 19,
   "metadata": {},
   "outputs": [
    {
     "data": {
      "text/plain": [
       "['9fe579e44900c017febba97cd4fa154856224a86b8dd6022a10e503f6cfb73b4',\n",
       " '6b9e218216d15f1c8469a9140ba4305102c24d515991550fd66c92c2ce45b601',\n",
       " '3b64f79e07a15336fbb7d668548cab17e10a798971655713524c0aa8b8f44ee5',\n",
       " 'bc31386831c020da56648a938a76d5e2d294dd4a2d499f5ff393dfb9d76b24cd',\n",
       " '08ec8b5a13230a00230cd6ef210ae99b5a3ded3b8c56d38dd555471ac1084a06',\n",
       " '5585eefa094ac675fd6cd16dc54bfb4c0b24bd295e84e4544dc075f7ceb6eb7a',\n",
       " '7252f76235ede049a14c1df93ddb9b4041d60182f34d1dcc9cd6d4bd4835529a',\n",
       " 'c5f19616f3603dc00100d9e0ada183965454fb19a0d169556f3e9c5d7b63c09d',\n",
       " '82e95eddb00c9ca3012fe31b39bfa561a874e83792994c74f013c70d10a51d6b',\n",
       " 'c40c92884d91525ec43b2e2aa8e61122d8a7456bd3620850b08c6f965c29857b',\n",
       " '7a2a662045740bee90ad0301b878ba71f6f3170aa9e50bc02369679a1e1674c3',\n",
       " '1df1507745ff324f20a531499d6e15dad0a1f4ec5f12ff4474fac291cf6eb803',\n",
       " 'e7e76e431e0fb158e7dbcaab5a946f388a6d7b2fae7dfe4848601ee11d7cf23e',\n",
       " '2fdcffe05316c3dd8723e458fed4b220d61ab7b976353f2dd3b5e40be67bf4cb',\n",
       " '944b320b025a655c17599b87e68be0fe409b350ac70b941bd57fd3663322a8de',\n",
       " '1fc800200e317ec7e4ac2b68ac804c06a636881e503bc3dbb9df521ff6e79b44',\n",
       " 'e040b83f3ca7e86e5bcd6f29f7c5f772775f43c24b3edc23509d84f12adf99f6',\n",
       " 'db99bdd38a89fae3c91ab7afb06138dba5c9edde7cd7c9cb4bbeab7cb813ccd4',\n",
       " '6e72332a5defdf9252a9cab5d662413df975e3f8614939921ce6d4ebc41c37e7',\n",
       " '99234cf60f6d42ae93019a1611bf43a0ebc2def4409a5ad3234ba900d70d164b',\n",
       " '7fecf210c37edcd62640d8b56fbf3021d4630c624942bc1b27547d2ca7a29523',\n",
       " 'bd534346f373bb927708a1257cce71ad061723947d51885a8699ddafea1ee25f',\n",
       " '46a020ff66eefdce3d9c1560cf6b09f7b5e06899c5986f0fe1e1def969bc8f9d',\n",
       " 'b118eefab7c0956c3b3da3cecd937e063283e919a62bccfc68064f9f96794c7c',\n",
       " '07824ebd4670b7e2e3979bb3e015b18f2187a0ced0c9ebd52cdab09a60168d53',\n",
       " '059f07d0fa2682cb9cfa5c137d9ba33783f95a9e361da57113beb20a8d5b2d1e',\n",
       " '6ae8fe2a1a8a2d477924ffd6659a42f1544b782b7216a31433a185508f3af701',\n",
       " '4dd22090bec7e5f775a6caddec0284778c22d09314e72d1cf57b5d23abaf4729',\n",
       " '09df329cc29116335f43afd717d46bb34b6f0248a90a2229ec289e41eac9140c',\n",
       " '30fc335f54929734f00bc74ccea7b03cf27f469980bcad45b80933790798c09f',\n",
       " '6c80f2d617a09568e10dc869dbf172b236887138c556581a635c72e8619d96ca',\n",
       " '423c1d5dffae38cdeb3c9a8880bc7eb7c7a3853fc4f9078c4141d4c8dcc57b48',\n",
       " '27703147f535ded3d165ca6398b0b192faf85be945d590877a3a6206a7965663',\n",
       " '341749aaa8e62ae4c7b36426a56f1ab6da433db0fa225200c70e96707d3767f4',\n",
       " 'e0b4010767ad40f2b4c763ca06eec5b29bb1753b1a1dbeebc849558e8d89e1e7',\n",
       " '359206366a825bebe109959ceb44fa8b7771b2bbd6e7c43afba40ed52fb34f20',\n",
       " '22b4707e20c1dd329a971491d9275ba677c16ed6248a85aa5ea13e440e1a9f6f',\n",
       " 'cb80668912fa129d870953b3926bb420a27d8bbeee3c7976e5637c25896b3c47',\n",
       " '0320951daaa5c5bfa8e127e29fa521d505463f5e524e4b3026b7246041c73705',\n",
       " 'dd7bbb41645e692061565f7ac59257a03044c878f988b6a7e4daf4a06f059735',\n",
       " '19085f471042ee72b92b461086ed9ac16e46fa8641f38de0c7fdd8d975d6212a',\n",
       " '59f721c695459f3fd5d3d55140e2a75b602641290596cdc0b0b75326444262a2',\n",
       " '9bf38a93c2a5492f00ba758b9b72206dc37f392e2f38c8b5c6dd53d9f3b0bd0a',\n",
       " 'a4851bb9081eca108ac491c561e6c8908b58e9c558484fc58557d290b30d673c',\n",
       " '1c229b46c15657474d108eaccd3995033a35cbdb3005c76fde41c9a1822f976e',\n",
       " '36269fa7f0e8ea12ffff846f1f89f935391c90391402d1f9cbf193e0010e187a',\n",
       " '5c8bcb67a7c39ea2fa43fe512faa72b6801747fdf26ab5691e08a5264e83a02b',\n",
       " '08d7034f9da24449a60e407cc0b776f8d70427ff145743b3c1a1ec5d8ace7331',\n",
       " '19ab435a3d3788ff3abfba121619a55540678edc3b424fd68884694c1619d196',\n",
       " 'bcaf04320d495fd3f6b26aefb17855056bbdbe04b86b6a807224f372c8a5eda6',\n",
       " '636c405fd96b024ddbf534fba563341fbd8eea44f0933a428a86651a869262d6',\n",
       " '1ca8097f1c7f948f80a7676174efa6640da1e644280b111de88bbf1a7d055b0e',\n",
       " 'c2ed202ca18bb205337d081151d603be3aeb0ed13690880321861491857fa08e',\n",
       " '4f7dbbfb3fb8700d3c9212aa52100807fcb6a66a622d09328ff128972912ddaf',\n",
       " '593ad6ed09ae81562c69813e72f89dccf860787db74857c36c1be0b9b8d9d724',\n",
       " 'dad09d8cd2148df81b6310908c5f0307ffb625cc169232d839d2981aea2f6b4c',\n",
       " '73386afdd0b54080eae31ae612d35b9ec0ac78f9e3b2c368f9783046e5edfe7c',\n",
       " '06a16c32657bb977818a04020c952a759e3d2e02acc965679989ef885e9846f9',\n",
       " '0efbee320cfe5164c92a3059165e551243a9bc02c0b87a5074c53de517df6eab',\n",
       " 'a06aa6c9c97d17eb5129400367985ce80931116f04190d97f1b3d8d9ed26bbaf',\n",
       " 'a2e2e4dca54f007fadf4b92e61d8d06df4c1c4ae8e0c1f46bf3fc8da4e6e7b69',\n",
       " '3f879b162d777431e62252e9d23fb7ee237a43c90bfa8dabcd2d222e16f59286',\n",
       " '2a4d62c4e3a737fce31ba79f6785225f5f7ddacbc8304b64079698ca29d5b9fe',\n",
       " '777b9b5cd6c8b461e0d3c45f542e2f51b130b315a8054b8390d49b3d24f34d2d',\n",
       " '0dadafeb19d16c46424d3b9dd947b00ae4ce35cdec7fbe550e01a8fb79087cfc',\n",
       " 'f6b412f06bd2273cb3edfb7aa2e580bf4aed0cb848c051d847d05a762c50eb89',\n",
       " 'c94683c223d5c2a807717efb02408376607f854283f4aa59db51d8bf2502614a',\n",
       " '556be098a832396ef633a8b193733c0d4cdb02c6614e49b86ac8b2ec0f35b8a5',\n",
       " '0b2e54b4a4397cdd6ee2aff164fcdb2a4353842dd661cfb99c7a286fb657eff3',\n",
       " '6e342e9f7eee05cf8904359b13846c5a40d9dc768ea8bad90eb61f430d65ce70',\n",
       " '9e401cd81a9b7da90d516e4dbebf8b841967449fa625345288ecdac24004bdf2',\n",
       " '1def729ca758ce89857fbe604ff61cdb3043977b342a2f3ad9494cad80dee021',\n",
       " 'c91a0de0fb92e39ecd395aa7e03a21110ed971df3924a2a638c16c02f46bc64c',\n",
       " '7feab56d6236de6163ed08661ec04e7f1b80f66c014a207984131155abbe859b',\n",
       " '250e3610e5b586a23922957bfc53edaa57c81c6faeeaf0bc19558c9fd53417d2',\n",
       " '42d129430cfa1bb7b35467b687651d072c156d1ac478a741951925f4b62a40cb',\n",
       " '10a48dc7d8da9470e203430e2af4f40c169f47ea47aff80a43a985f64bd39bac',\n",
       " '8972e4d878b4c7aed766902f7a5091154937567d784c1e276000d246f949f42d',\n",
       " '0515c9df6410f498e9178f51ed6395444f975a402d21308874961e92e2cf7027',\n",
       " '5e94f248751e670476458fce986deecd6bff40dfbed1d5fa6ed2ffd1920b10c5',\n",
       " 'fcd8df02fe0e04f30532ac197018970d7f70c7410da946078de146491adfcfe6',\n",
       " '4d6e83211650080c077a86e0d856a098fedff8240364beaa717387189196a9bf',\n",
       " '88309b2ab3162d4fc0abddee01192a8de0f506862d86e0c00b7c931a1d6be1f3',\n",
       " '7ac7093a47163edf6a1ff1a4cac6166655d4b1d7b8bba63e4625cfba04eb59bd',\n",
       " 'c326631e2c6d03def70ed8663911a95b5d7e4afa92135817581983fc0f576e7f',\n",
       " '27b72d893ecf07e56f61d0f36f45816d7e4c7e929c5cc2bafed343bccc3b4021',\n",
       " 'b84dc69385579b7e3fa1a9afa6ceade89d29ddf0135cfc136020a2170ff954f6',\n",
       " '49c75f47dc571c937f7670fb282ccacc3b93da53165fb77a4b89e275fc24a109',\n",
       " 'beb7beb97e48dd9551b7c9798a216241c5b8e1463b52ed0fd2ce68203bee4188',\n",
       " '4f7f8e4282ca2815eefce26df1d969b4653148757fd3e80326ead220e6e81093',\n",
       " '01b9d5f5954736df22316c9053d2ceeef6c2d1944e3bb9a2f535f458e878af65',\n",
       " 'd97d2fc351249b09e384281385af597ce95972072047d6b8995ed7070661de3c',\n",
       " 'e7b2c6fbac1fdda8b3861f976b79924d0221d92471a9bf2e4161789d2717db62',\n",
       " '81d66401e72804cb3b2265fc2bb5cb838a5979849e3f4cddf19a28a96ca7a34d',\n",
       " '4a14b919a67a8f7090c4045a3056a38cae91123166acffc9310b1c7e26858746',\n",
       " '831d3a0711971c9e82301230dcc13792b85bd38fff2177fe4ff6c0a53f877909',\n",
       " '064f4aefce3554c065bcec453362d1a77709c91b1e766ac1d345650e08eb470a',\n",
       " 'd3aab4a5de906e5d6db3dae062a825ab77b6cfce4891b5f75a62e15f10e38b7e',\n",
       " 'aacfef54ff5eacb6943632d93be306ab9fe06f28b35f35a580995a9cd2adaf07',\n",
       " '01bafa6619b99aeff5e4dc1cb83dd6115c47ce0a825890fa964ca33b026f0358']"
      ]
     },
     "execution_count": 19,
     "metadata": {},
     "output_type": "execute_result"
    }
   ],
   "source": [
    "hashes"
   ]
  },
  {
   "cell_type": "code",
   "execution_count": 20,
   "metadata": {},
   "outputs": [],
   "source": [
    "from sys import getsizeof"
   ]
  },
  {
   "cell_type": "code",
   "execution_count": 32,
   "metadata": {},
   "outputs": [
    {
     "data": {
      "text/plain": [
       "28"
      ]
     },
     "execution_count": 32,
     "metadata": {},
     "output_type": "execute_result"
    }
   ],
   "source": [
    "getsizeof(10)"
   ]
  },
  {
   "cell_type": "code",
   "execution_count": 25,
   "metadata": {},
   "outputs": [
    {
     "data": {
      "text/plain": [
       "'9fe579e44900c017febba97cd4fa154856224a86b8dd6022a10e503f6cfb73b4'"
      ]
     },
     "execution_count": 25,
     "metadata": {},
     "output_type": "execute_result"
    }
   ],
   "source": [
    "hashes[0]"
   ]
  },
  {
   "cell_type": "code",
   "execution_count": 29,
   "metadata": {},
   "outputs": [
    {
     "data": {
      "text/plain": [
       "int"
      ]
     },
     "execution_count": 29,
     "metadata": {},
     "output_type": "execute_result"
    }
   ],
   "source": [
    "type(i )"
   ]
  },
  {
   "cell_type": "code",
   "execution_count": 46,
   "metadata": {},
   "outputs": [
    {
     "data": {
      "text/plain": [
       "'150145154154157'"
      ]
     },
     "execution_count": 46,
     "metadata": {},
     "output_type": "execute_result"
    }
   ],
   "source": [
    "word = \"hello\"\n",
    "''.join(format(ord(i), '0o') for i in word)"
   ]
  },
  {
   "cell_type": "code",
   "execution_count": 55,
   "metadata": {},
   "outputs": [],
   "source": [
    "cont = hash_string_256(format(ord('a'), '0o'))"
   ]
  },
  {
   "cell_type": "code",
   "execution_count": 56,
   "metadata": {},
   "outputs": [
    {
     "data": {
      "text/plain": [
       "64"
      ]
     },
     "execution_count": 56,
     "metadata": {},
     "output_type": "execute_result"
    }
   ],
   "source": [
    "collector = []\n",
    "\n",
    "# split the hash into 8 parts \n",
    "for i in range(0, len(cont), 8):\n",
    "    collector.append(cont[i:i+8])\n",
    "    "
   ]
  },
  {
   "cell_type": "code",
   "execution_count": null,
   "metadata": {},
   "outputs": [],
   "source": []
  }
 ],
 "metadata": {
  "kernelspec": {
   "display_name": "base",
   "language": "python",
   "name": "python3"
  },
  "language_info": {
   "codemirror_mode": {
    "name": "ipython",
    "version": 3
   },
   "file_extension": ".py",
   "mimetype": "text/x-python",
   "name": "python",
   "nbconvert_exporter": "python",
   "pygments_lexer": "ipython3",
   "version": "3.8.8"
  },
  "orig_nbformat": 4,
  "vscode": {
   "interpreter": {
    "hash": "e705ad22f3fa3832c882a6b4c9aa1cf342660a41c117362216f2f29b233a410b"
   }
  }
 },
 "nbformat": 4,
 "nbformat_minor": 2
}
