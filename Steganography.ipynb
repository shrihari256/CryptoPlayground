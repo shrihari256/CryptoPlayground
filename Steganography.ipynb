{
 "cells": [
  {
   "cell_type": "code",
   "execution_count": null,
   "metadata": {},
   "outputs": [],
   "source": [
    "from PIL import Image "
   ]
  },
  {
   "cell_type": "code",
   "execution_count": null,
   "metadata": {},
   "outputs": [],
   "source": [
    "source = Image.open(r'/home/harinator/Downloads/source.jpg')"
   ]
  },
  {
   "cell_type": "code",
   "execution_count": null,
   "metadata": {},
   "outputs": [],
   "source": [
    "transformed = Image.open(r'/home/harinator/Downloads/encoded.png')"
   ]
  },
  {
   "cell_type": "code",
   "execution_count": null,
   "metadata": {},
   "outputs": [],
   "source": [
    "source_rgb = source.convert('RGB')"
   ]
  },
  {
   "cell_type": "code",
   "execution_count": null,
   "metadata": {},
   "outputs": [],
   "source": [
    "source_rgb.getpixel((1,0))"
   ]
  },
  {
   "cell_type": "code",
   "execution_count": null,
   "metadata": {},
   "outputs": [],
   "source": [
    "source_rgb"
   ]
  },
  {
   "cell_type": "code",
   "execution_count": null,
   "metadata": {},
   "outputs": [],
   "source": [
    "tf_rgb = transformed.convert('RGB')\n"
   ]
  },
  {
   "cell_type": "code",
   "execution_count": null,
   "metadata": {},
   "outputs": [],
   "source": [
    "tf_rgb.getpixel((1,0))"
   ]
  },
  {
   "cell_type": "code",
   "execution_count": null,
   "metadata": {},
   "outputs": [],
   "source": [
    "tf_rgb"
   ]
  },
  {
   "attachments": {},
   "cell_type": "markdown",
   "metadata": {},
   "source": [
    "## Casting the Image into tables"
   ]
  },
  {
   "cell_type": "code",
   "execution_count": null,
   "metadata": {},
   "outputs": [],
   "source": [
    "source_rgb.size\n",
    "# (Columns, Rows)"
   ]
  },
  {
   "cell_type": "code",
   "execution_count": null,
   "metadata": {},
   "outputs": [],
   "source": [
    "# function that gets an image and returns a table of the RGB values of each pixel\n",
    "def get_pixel_table(image):\n",
    "    pixel_table = []\n",
    "    for i in range(image.size[0]):\n",
    "        row = []\n",
    "        for j in range(image.size[1]):\n",
    "            row.append(image.getpixel((i,j)))\n",
    "        pixel_table.append(row)\n",
    "    return pixel_table"
   ]
  },
  {
   "cell_type": "code",
   "execution_count": null,
   "metadata": {},
   "outputs": [],
   "source": [
    "source_table = get_pixel_table(source_rgb)\n",
    "tf_table = get_pixel_table(tf_rgb)"
   ]
  },
  {
   "cell_type": "code",
   "execution_count": null,
   "metadata": {},
   "outputs": [],
   "source": [
    "# Alternate fuction to get the pixel table\n",
    "def gptmethod(image):\n",
    "    pixel_table = []\n",
    "    width, height = image.size\n",
    "    for x in range (width):\n",
    "        for y in range (height):\n",
    "            # r,g,b = image.getpixel((x,y))\n",
    "            # pixel_table.append((r,g,b))\n",
    "            pixel_table.append(image.getpixel((x,y)))\n",
    "    return pixel_table\n"
   ]
  },
  {
   "cell_type": "code",
   "execution_count": null,
   "metadata": {},
   "outputs": [],
   "source": [
    "source_table_2 = gptmethod(source_rgb)\n",
    "tf_table_2 = gptmethod(tf_rgb)"
   ]
  },
  {
   "cell_type": "code",
   "execution_count": null,
   "metadata": {},
   "outputs": [],
   "source": [
    "source_table[0][0]"
   ]
  },
  {
   "cell_type": "code",
   "execution_count": null,
   "metadata": {},
   "outputs": [],
   "source": [
    "source_table[0][0][0]"
   ]
  },
  {
   "cell_type": "code",
   "execution_count": null,
   "metadata": {},
   "outputs": [],
   "source": [
    "source_table_2[0]"
   ]
  },
  {
   "cell_type": "code",
   "execution_count": null,
   "metadata": {},
   "outputs": [],
   "source": [
    "# function that creates a comparison table if there is a difference between the RGB values of the pixels in two tables\n",
    "def compare_tables(table1, table2):\n",
    "    comparison_table = []\n",
    "    for i in range(len(table1)):\n",
    "        row = []\n",
    "        for j in range(len(table1[i])):\n",
    "            for k in range(len(table1[i][j])):\n",
    "                if table1[i][j][k] == table2[i][j][k]:\n",
    "                    row.append(0)\n",
    "                else:\n",
    "                    row.append(1)\n",
    "        comparison_table.append(row)\n",
    "    return comparison_table"
   ]
  },
  {
   "cell_type": "code",
   "execution_count": null,
   "metadata": {},
   "outputs": [],
   "source": [
    "comp_table = compare_tables(source_table, tf_table)"
   ]
  },
  {
   "cell_type": "code",
   "execution_count": null,
   "metadata": {},
   "outputs": [],
   "source": [
    "len(comp_table)"
   ]
  },
  {
   "cell_type": "code",
   "execution_count": null,
   "metadata": {},
   "outputs": [],
   "source": []
  },
  {
   "cell_type": "code",
   "execution_count": null,
   "metadata": {},
   "outputs": [],
   "source": [
    "print(len(comp_table))\n",
    "print(len(comp_table[0]))"
   ]
  },
  {
   "cell_type": "code",
   "execution_count": null,
   "metadata": {},
   "outputs": [],
   "source": [
    "comp_table_shaped = []\n",
    "\n",
    "for i in range(len(comp_table)):\n",
    "    \n",
    "    j = 0\n",
    "    while True:\n",
    "        try:\n",
    "            #comp_table_shaped[i][j] = (comp_table[i][j], comp_table[i][j+1], comp_table[i][j+2])\n",
    "            #comp_table_shaped[i][j] = comp_table[i][j]\n",
    "            j += 1\n",
    "            print(\"added \"+ str(i) + \" \" + str(j))\n",
    "            \n",
    "            if j >= len(comp_table[i]):\n",
    "                break\n",
    "        except:\n",
    "            print(\"broken \"+str(i))\n",
    "            break"
   ]
  },
  {
   "cell_type": "code",
   "execution_count": null,
   "metadata": {},
   "outputs": [],
   "source": [
    "len(comp_table_shaped)"
   ]
  },
  {
   "cell_type": "code",
   "execution_count": null,
   "metadata": {},
   "outputs": [],
   "source": []
  }
 ],
 "metadata": {
  "kernelspec": {
   "display_name": "Python 3",
   "language": "python",
   "name": "python3"
  },
  "language_info": {
   "codemirror_mode": {
    "name": "ipython",
    "version": 3
   },
   "file_extension": ".py",
   "mimetype": "text/x-python",
   "name": "python",
   "nbconvert_exporter": "python",
   "pygments_lexer": "ipython3",
   "version": "3.10.6"
  },
  "orig_nbformat": 4,
  "vscode": {
   "interpreter": {
    "hash": "916dbcbb3f70747c44a77c7bcd40155683ae19c65e1c03b4aa3499c5328201f1"
   }
  }
 },
 "nbformat": 4,
 "nbformat_minor": 2
}
